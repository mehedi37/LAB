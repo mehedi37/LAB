{
  "cells": [
    {
      "cell_type": "markdown",
      "metadata": {
        "id": "-LUKhJ69ibQi"
      },
      "source": [
        "# 🧑🏻‍💼 2003037\n",
        "> 👨🏻‍💻 [README.md](https://github.com/mehedi37/LAB/blob/main/2-2/numerical/README.md)"
      ]
    },
    {
      "cell_type": "markdown",
      "metadata": {
        "id": "wH9IP9IVi6di"
      },
      "source": [
        "# 📦 Imports"
      ]
    },
    {
      "cell_type": "code",
      "execution_count": 29,
      "metadata": {
        "id": "y3cdB3LWi6CF"
      },
      "outputs": [],
      "source": [
        "import pandas as pd\n",
        "import numpy as np\n",
        "import matplotlib.pyplot as plt\n",
        "from sympy import symbols, diff, simplify, together, Poly\n",
        "from scipy.optimize import curve_fit\n",
        "import math"
      ]
    },
    {
      "cell_type": "markdown",
      "metadata": {
        "id": "m0ZJHsi9i5X6"
      },
      "source": [
        "# 🧬 Generates the interpolation polynomial `f(x)` Dynamically"
      ]
    },
    {
      "cell_type": "code",
      "execution_count": 30,
      "metadata": {
        "id": "LjITondPja1q"
      },
      "outputs": [],
      "source": [
        "# This function will generate the difference table for the given data.\n",
        "def difference_table(population):\n",
        "    delta = []\n",
        "    delta.append(population)\n",
        "    for i in range(len(population)-1):\n",
        "        delta.append([])\n",
        "        for j in range(len(population)-i-1):\n",
        "            delta[i+1].append(delta[i][j+1] - delta[i][j])\n",
        "    # print(\"Delta table:\")\n",
        "    # print(delta)\n",
        "    return delta\n",
        "\n",
        "\n",
        "# This function finds the polynomial of the given data using Newton's Forward Interpolation method.\n",
        "def find_the_polynomial(delta, years, population):\n",
        "    '''\n",
        "        Yn(X) = Y0 + p * delta1 + p * (p-1) * delta2 / 2! + p * (p-1) * (p-2) * delta3 / 3! + ...\n",
        "    '''\n",
        "\n",
        "    x = symbols('x')\n",
        "    p = (x - years[0]) / (years[1] - years[0])\n",
        "    eqn = population[0]\n",
        "\n",
        "    static_p = p\n",
        "    fact = 1\n",
        "    for i in range(1, len(delta)):\n",
        "        fact *= i\n",
        "        term = p * delta[i][0] / fact\n",
        "        eqn += term\n",
        "        p *= (static_p - i)\n",
        "\n",
        "    # Simplify the expression\n",
        "    eqn = simplify(eqn)\n",
        "    derivative = diff(eqn, x)\n",
        "    print(f\"\\n\\nEquation: {eqn}\\n\\nDerivative: {derivative}\\n\\n\")\n",
        "\n",
        "    return [eqn, derivative]"
      ]
    },
    {
      "cell_type": "markdown",
      "metadata": {
        "id": "Sk2KzQGvjflo"
      },
      "source": [
        "# 🚀 Newton Interpolation (*Forward*)\n",
        "\n",
        "\n",
        "\n",
        "1.   `eqn` = The general intigration polynomial\n",
        "2.   `target_year` = x0\n",
        "\n",
        "> $p = \\frac{X_1 - X_0}{h}$\n",
        "\n",
        "> $Y_n(X) = Y_0 + p\\cdot\\Delta y_0 + \\frac{p\\cdot(p-1)\\cdot\\Delta^2 y_0}{2!} + \\frac{p\\cdot(p-1)\\cdot(p-2)\\cdot\\Delta^3 y_0}{3!} + ..$\n",
        "\n"
      ]
    },
    {
      "cell_type": "code",
      "execution_count": 31,
      "metadata": {
        "id": "JskNSgXTjpAn"
      },
      "outputs": [],
      "source": [
        "def NewtonInterpolation(eqn, target_year):\n",
        "    '''\n",
        "    we know,\n",
        "        X = X0 + p * h\n",
        "        p = (x - X0) / h\n",
        "\n",
        "    So,\n",
        "        Yn(X) = Y0 + p * delta1 + p * (p-1) * delta2 / 2! + p * (p-1) * (p-2) * delta3 / 3! + ...\n",
        "    '''\n",
        "    return func(eqn, target_year)"
      ]
    },
    {
      "cell_type": "markdown",
      "metadata": {
        "id": "uTGn9OIYkCjS"
      },
      "source": [
        "# ⚡️ Newton Raphson\n",
        "> $X_1 = X_0 - \\frac{f(x)}{f'(x)}$"
      ]
    },
    {
      "cell_type": "code",
      "execution_count": 32,
      "metadata": {
        "id": "hInJd2H-kFev"
      },
      "outputs": [],
      "source": [
        "# It solves the equation for the given value of x.\n",
        "def func(eqn, x):\n",
        "    solution = round(eqn.subs('x', x), 6)       # the more the decimal places, the more accurate the result\n",
        "    # print(f\"Solution for x = {x}: {solution}\")\n",
        "    return solution\n",
        "\n",
        "#  I will be given target population and I have to find the year\n",
        "def newton_raphson(eqn, derivative, pop, initial_guess, accuracy = 0.001, max_iter=100):\n",
        "    x = initial_guess\n",
        "    Xn = x - (func(eqn, x) / func(derivative, x))\n",
        "    while abs(Xn - x) > accuracy and max_iter > 0:\n",
        "        max_iter = max_iter-1\n",
        "        x = Xn\n",
        "        if (func(derivative, x) == 0):\n",
        "            print(\"Error! - derivative zero for x = \", x)\n",
        "            return None\n",
        "        Xn = x - (func(eqn, x) / func(derivative, x))\n",
        "    return Xn"
      ]
    },
    {
      "cell_type": "markdown",
      "metadata": {
        "id": "lLiHPUK-kOYk"
      },
      "source": [
        "# 📈Curve Fitting"
      ]
    },
    {
      "cell_type": "code",
      "execution_count": 33,
      "metadata": {
        "id": "LJSFqY36kQ93"
      },
      "outputs": [],
      "source": [
        "def curveGeneralEqn(x, *coefficients):\n",
        "    # Assuming coefficients are in the form [a0, a1, a2, ...]\n",
        "    return sum(a * x**i for i, a in enumerate(coefficients))\n",
        "\n",
        "def curve_fitting(eqn, years, population):\n",
        "    '''\n",
        "    Our target is to take the N.Interpolation General Eqn and make a new eqn with unknown coefficients.\n",
        "    so,\n",
        "        from 1250*x**(5/3) - 4170000*x**4 + 16693341250*x**3 - 33413380800000*x**2 + 100320284607985000*x/3 - 13386729871852880000\n",
        "        we get a0 + a1*x + a2*x**2 + a3*x**3 + a4*x**4 + a5*x**5\n",
        "        then we will solve this equation for the given values of x and y.\n",
        "        Find the values of a0, a1, a2, a3, a4, a5.\n",
        "        Then we will substitute the values of a0, a1, a2, a3, a4, a5 in the general equation.\n",
        "        Then we will get the curve fitting equation.\n",
        "        We will use this equation to find the population for the next 10 years.\n",
        "    '''\n",
        "    x = symbols('x')\n",
        "    # Convert expression to a rational function\n",
        "    rational_expression = together(eqn)\n",
        "    # taking all the coefficients of the equation\n",
        "    coefficients = Poly(rational_expression, x).all_coeffs()\n",
        "    # Determine the order of the equation\n",
        "    order = len(coefficients) - 1\n",
        "    initial_guess = np.ones(order)\n",
        "    params, _ = curve_fit(curveGeneralEqn, years, population, p0=initial_guess)\n",
        "    return params"
      ]
    },
    {
      "cell_type": "markdown",
      "metadata": {
        "id": "ktXbrwprkUwf"
      },
      "source": [
        "# 📊 Plotting"
      ]
    },
    {
      "cell_type": "code",
      "execution_count": 34,
      "metadata": {
        "colab": {
          "base_uri": "https://localhost:8080/",
          "height": 1000
        },
        "id": "gQQpPeBHEONi",
        "outputId": "f7f20edf-e1eb-4b2d-9cdc-b21651d2e2bd"
      },
      "outputs": [
        {
          "name": "stdout",
          "output_type": "stream",
          "text": [
            "\n",
            "\n",
            "Equation: 1250*x**5/3 - 4170000*x**4 + 16693341250*x**3 - 33413380800000*x**2 + 100320284607985000*x/3 - 13386729871852880000\n",
            "\n",
            "Derivative: 6250*x**4/3 - 16680000*x**3 + 50080023750*x**2 - 66826761600000*x + 100320284607985000/3\n",
            "\n",
            "\n"
          ]
        },
        {
          "name": "stderr",
          "output_type": "stream",
          "text": [
            "C:\\Users\\mjmeh\\AppData\\Roaming\\Python\\Python311\\site-packages\\scipy\\optimize\\_minpack_py.py:1010: OptimizeWarning: Covariance of the parameters could not be estimated\n",
            "  warnings.warn('Covariance of the parameters could not be estimated',\n"
          ]
        },
        {
          "name": "stdout",
          "output_type": "stream",
          "text": [
            "\n",
            "Newton Interpolation: \n",
            "Population in 2005  :  151470000\n",
            "Population in 2006  :  154920000\n",
            "Population in 2007  :  159100000\n",
            "Population in 2008  :  164600000\n",
            "Population in 2009  :  172280000\n",
            "Population in 2010  :  183320000\n",
            "Population in 2011  :  199270000\n",
            "Population in 2012  :  222100000\n",
            "Population in 2013  :  254250000\n",
            "Population in 2014  :  298680000\n",
            "\n",
            "Newton Raphson: \n",
            "In 2005 (2005) Year Population: 151470000\n",
            "In 2005.808500898 (2006) Year Population: 154920000\n",
            "In 2007.266566409 (2007) Year Population: 159100000\n",
            "In 2008.122099910 (2008) Year Population: 164600000\n",
            "In 2008.816971668 (2009) Year Population: 172280000\n",
            "In 2009.972518611 (2010) Year Population: 183320000\n",
            "In 2010.903029100 (2011) Year Population: 199270000\n",
            "In 2012.012019198 (2012) Year Population: 222100000\n",
            "In 2012.992576885 (2013) Year Population: 254250000\n",
            "In 2013.988075424 (2014) Year Population: 298680000\n",
            "\n",
            "Curve Fitting: \n",
            "Population in 2005  :  151377555.49118042\n",
            "Population in 2006  :  154450663.64761353\n",
            "Population in 2007  :  157597737.63441467\n",
            "Population in 2008  :  160818953.50938416\n",
            "Population in 2009  :  164114487.46966553\n",
            "Population in 2010  :  167484515.85176086\n",
            "Population in 2011  :  170929215.13157654\n",
            "Population in 2012  :  174448761.92436218\n",
            "Population in 2013  :  178043332.9847412\n",
            "Population in 2014  :  181713105.2066803\n"
          ]
        },
        {
          "data": {
            "image/png": "[encoded data removed]",
            "text/plain": [
              "<Figure size 640x480 with 1 Axes>"
            ]
          },
          "metadata": {},
          "output_type": "display_data"
        }
      ],
      "source": [
        "if __name__ == \"__main__\":\n",
        "    # data = pd.read_csv('c:\\\\Users\\\\mjmeh\\\\Documents\\\\Github\\\\LAB\\\\2-2\\\\numerical\\\\data.csv')\n",
        "    # url = 'https://raw.githubusercontent.com/mehedi37/LAB/main/2-2/numerical/data.csv'\n",
        "    url = 'https://raw.githubusercontent.com/mehedi37/LAB/main/2-2/numerical/data.csv?token=GHSAT0AAAAAACHBSKUMDOGALZZTTWYEFC7IZNUYWFQ'\n",
        "    data = pd.read_csv(url)\n",
        "\n",
        "    years = data[data.columns[0]].tolist()\n",
        "    population = data[data.columns[1]].tolist()\n",
        "\n",
        "    last_year = int(data.iloc[-1, 0])\n",
        "\n",
        "    # Next 10 years for prediction\n",
        "    target_year_values = [last_year + i for i in range(1, 11)]\n",
        "\n",
        "    delta = difference_table(population)\n",
        "    eqn, derivative = find_the_polynomial(delta, years, population)\n",
        "    # print(eqn - symbols(str(134480000)))      # Population(t) - target_population = 0\n",
        "\n",
        "    # curve fitting parameters\n",
        "    curveParams = curve_fitting(eqn, years, population)\n",
        "\n",
        "    # Calculate populations for Newton Interpolation and Curve Fitting\n",
        "    target_population_newton = [NewtonInterpolation(eqn, year) for year in target_year_values]\n",
        "    target_years_newton_raphson = [newton_raphson(eqn - pop, derivative, pop, last_year + 1) for pop in target_population_newton]\n",
        "    target_population_curve_fit = [curveGeneralEqn(year, *curveParams) for year in target_year_values]\n",
        "\n",
        "    print(\"\\nNewton Interpolation: \")\n",
        "    for year, pop in zip(target_year_values, target_population_newton):     # makes a dictionary\n",
        "        print(\"Population in\", year, \" : \", pop)\n",
        "\n",
        "    print(\"\\nNewton Raphson: \")\n",
        "    for year, pop in zip(target_years_newton_raphson, target_population_newton):\n",
        "        print(f\"In {year} ({round(year)}) Year Population: {pop}\")\n",
        "\n",
        "    print(\"\\nCurve Fitting: \")\n",
        "    for year, pop in zip(target_year_values, target_population_curve_fit):\n",
        "        print(\"Population in\", year, \" : \", pop)\n",
        "\n",
        "\n",
        "    plt.rcParams.update({\n",
        "        'lines.linewidth': 2,\n",
        "        'lines.markersize': 5\n",
        "    })\n",
        "\n",
        "    plt.plot(target_year_values, target_population_newton, 'ro-', label='N.Interpolation')\n",
        "    plt.plot(target_years_newton_raphson, target_population_newton, 'go-', label='N.Raphson')\n",
        "    plt.plot(target_year_values, target_population_curve_fit, 'bo-', label='Curve Fitting')\n",
        "    plt.plot(years, population, 'mo-', label='Given Data')\n",
        "\n",
        "    plt.xlabel('Year')\n",
        "    plt.ylabel('Population')\n",
        "    plt.title('Population vs Year')\n",
        "    plt.legend()\n",
        "    plt.show()"
      ]
    },
    {
      "cell_type": "markdown",
      "metadata": {
        "id": "sBNbFxwSEZ6U"
      },
      "source": [
        "\n",
        "\n",
        "*  \n",
        "*   \n",
        "*\n",
        "*\n",
        "\n",
        "For Better View Visit :\n",
        "\n",
        ">\n",
        "\n",
        "\n",
        "🔗 [README.md](https://github.com/mehedi37/LAB/blob/main/2-2/numerical/README.md)\n",
        "\n",
        "---\n",
        "\n",
        "\n",
        "# Population Prediction and Curve Fitting\n",
        "\n",
        "![Plot Result](https://github.com/mehedi37/LAB/assets/41261534/aa42407e-79d1-4614-a6c7-a16089b5c2f0)\n",
        "\n",
        "\n",
        "\n",
        "## Overview\n",
        "> [!NOTE]\n",
        "> This Python script uses `Newton's Forward Interpolation`, `Newton Raphson` root finding and `Curve Fitting` techniques to predict population growth over the `next 10 years`. It reads population data from a [CSV file](https://raw.githubusercontent.com/mehedi37/LAB/main/2-2/numerical/data.csv) and performs analysis using symbolic mathematics and numerical optimization.\n",
        "\n",
        "# Detailed Process\n",
        "![Total Process in the code](https://github.com/mehedi37/LAB/assets/41261534/0d9ee6c4-6fb4-4416-87a9-4b596a2a5744)\n",
        "\n",
        "\n",
        "## Prerequisites\n",
        "> [!CAUTION]\n",
        "> Make sure you have the following libraries installed:\n",
        "- `pandas`\n",
        "- `numpy`\n",
        "- `matplotlib`\n",
        "- `scipy`\n",
        "- `sympy`\n",
        "\n",
        "You can install them using:\n",
        "```python\n",
        "pip install pandas numpy matplotlib scipy sympy\n",
        "```"
      ]
    }
  ],
  "metadata": {
    "colab": {
      "collapsed_sections": [
        "wH9IP9IVi6di",
        "m0ZJHsi9i5X6",
        "Sk2KzQGvjflo",
        "uTGn9OIYkCjS",
        "lLiHPUK-kOYk",
        "ktXbrwprkUwf"
      ],
      "provenance": []
    },
    "kernelspec": {
      "display_name": "Python 3",
      "name": "python3"
    },
    "language_info": {
      "codemirror_mode": {
        "name": "ipython",
        "version": 3
      },
      "file_extension": ".py",
      "mimetype": "text/x-python",
      "name": "python",
      "nbconvert_exporter": "python",
      "pygments_lexer": "ipython3",
      "version": "3.11.4"
    }
  },
  "nbformat": 4,
  "nbformat_minor": 0
}
